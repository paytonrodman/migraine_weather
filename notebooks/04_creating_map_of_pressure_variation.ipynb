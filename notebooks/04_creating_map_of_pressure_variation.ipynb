{
 "cells": [
  {
   "cell_type": "markdown",
   "metadata": {
    "toc": true
   },
   "source": [
    "<h1>Table of Contents<span class=\"tocSkip\"></span></h1>\n",
    "<div class=\"toc\"><ul class=\"toc-item\"></ul></div>"
   ]
  },
  {
   "cell_type": "code",
   "execution_count": 1,
   "metadata": {},
   "outputs": [],
   "source": [
    "%load_ext autoreload\n",
    "%autoreload 2\n",
    "\n",
    "import pandas as pd\n",
    "pd.set_option(\"mode.copy_on_write\", True)\n",
    "\n",
    "import os\n",
    "os.chdir(\"/Users/paytonrodman/projects/migraine_weather\")"
   ]
  },
  {
   "cell_type": "markdown",
   "metadata": {},
   "source": [
    "<h1>Creating a Map of Pressure Variation</h1>"
   ]
  },
  {
   "cell_type": "code",
   "execution_count": 5,
   "metadata": {
    "code_folding": [
     0,
     43
    ]
   },
   "outputs": [],
   "source": [
    "def remove_outliers(df):\n",
    "    \"\"\"\n",
    "    Processes a dataframe df to remove day with outlier measurements.\n",
    "\n",
    "    :param pd.DataFrame df: A pandas dataframe. Should contain the following columns:\n",
    "        - temp\n",
    "        - rhum\n",
    "        - prcp\n",
    "        - wspd\n",
    "        - pres\n",
    "    :returns cleaned_df: A cleaned pandas dataframe\n",
    "    \"\"\"\n",
    "    import pandas as pd\n",
    "    \n",
    "    # calculate dvar_per_hour\n",
    "    vars = [\"temp\",\"rhum\",\"prcp\",\"wspd\",\"pres\"]\n",
    "    dt = df.index.to_series().diff().dt.days*24. + df.index.to_series().diff().dt.seconds//3600\n",
    "\n",
    "    cleaned_df = df.copy()\n",
    "    for var in vars:\n",
    "        df[f'd{var}_per_hour'] = df[f'{var}'].diff() / dt\n",
    "\n",
    "        # determine IQR for dvar_per_hour\n",
    "        statistics = df[f'd{var}_per_hour'].describe()\n",
    "        q75 = statistics[\"75%\"]\n",
    "        q25 = statistics[\"25%\"]\n",
    "        intr_qr = q75 - q25\n",
    "        maxq = q75 + (3*intr_qr)\n",
    "        minq = q25 - (3*intr_qr)\n",
    "\n",
    "        # Find outliers with >=2 variations outside 3 IQR\n",
    "        outliers = df[(df[f'd{var}_per_hour'] < minq) | (df[f'd{var}_per_hour'] > maxq)];\n",
    "        outliers['date'] = outliers.index.date;\n",
    "        entry_counts = outliers['date'].value_counts();\n",
    "        valid_dates = entry_counts[entry_counts > 1].index;\n",
    "        outliers = outliers[outliers['date'].isin(valid_dates)];\n",
    "\n",
    "        # drop outlier days from dataframe\n",
    "        drop_dates = list(set(outliers.index.date))\n",
    "        cleaned_df = cleaned_df[~pd.Series(cleaned_df.index.date).isin(drop_dates).values]\n",
    "\n",
    "    return cleaned_df\n",
    "\n",
    "def get_variation_frac(df, var):\n",
    "    \"\"\"\n",
    "    Processes a dataframe df and returns only those entries with an hourly starttime and endtime\n",
    "    that encapsulates the range defined by start and end.\n",
    "\n",
    "    :param pd.DataFrame df: A pandas dataframe. Should contain the following columns:\n",
    "        - hourly_start\n",
    "        - hourly_end\n",
    "    :returns: The number of days per year of high pressure variation.\n",
    "    \"\"\"\n",
    "    import pandas as pd\n",
    "\n",
    "    if var == \"pres\":\n",
    "        thresh = 10.\n",
    "\n",
    "    fdays_yearly = {}\n",
    "    # loop over years\n",
    "    for yname, ygroup in df.groupby(pd.Grouper(freq='Y')):\n",
    "        if ygroup[var].isna().all():\n",
    "            fdays_yearly[yname.year] = float('nan')\n",
    "            continue\n",
    "        if sum(ygroup[var].isna())>0.1*len(ygroup[var]):\n",
    "            fdays_yearly[yname.year] = float('nan')\n",
    "            continue\n",
    "\n",
    "        ndays = 0\n",
    "        # loop over days\n",
    "        for dname, dgroup in ygroup.groupby(pd.Grouper(freq='D')):\n",
    "            vrange = dgroup[var].max() - dgroup[var].min()\n",
    "            if vrange >= thresh:\n",
    "                ndays += 1\n",
    "\n",
    "        frac_days = ndays/len(list(set(ygroup.index.date)))\n",
    "        fdays_yearly[yname.year] = frac_days\n",
    "    return fdays_yearly"
   ]
  },
  {
   "cell_type": "code",
   "execution_count": 7,
   "metadata": {},
   "outputs": [
    {
     "name": "stdout",
     "output_type": "stream",
     "text": [
      "100.00%       frac_var                  name country region    wmo  icao  latitude  \\\n",
      "id                                                                            \n",
      "94120       NaN        Darwin Airport      AU     NT  94120  YPDN  -12.4000   \n",
      "94132       NaN    Katherine / Tindal      AU     NT  94132  YPTN  -14.4500   \n",
      "94150  0.000436          Gove Airport      AU     NT  94150  YDGV  -12.3000   \n",
      "94171       NaN              Scherger      AU    QLD  94171  YBWP  -12.6000   \n",
      "94203       NaN           Broome Port      AU     WA  95202  YBRM  -18.0000   \n",
      "...         ...                   ...     ...    ...    ...   ...       ...   \n",
      "YHID0       NaN  Horn Island / Wasaga      AU    QLD   <NA>  YHID  -10.5864   \n",
      "YKRY0       NaN   Kingaroy / Taabinga      AU    QLD   <NA>  YKRY  -26.5808   \n",
      "YNAR0       NaN            Narrandera      AU    NSW   <NA>  YNAR  -34.7022   \n",
      "YPJT0       NaN  Perth / Canning Vale      AU     WA   <NA>  YPJT  -32.0975   \n",
      "YSWL0  0.075710   Stawell / Illawarra      AU    VIC   <NA>  YSWL  -37.0717   \n",
      "\n",
      "       longitude  elevation             timezone hourly_start hourly_end  \\\n",
      "id                                                                         \n",
      "94120   130.9000       31.0     Australia/Darwin   1941-01-31 2024-12-03   \n",
      "94132   132.2667      108.0     Australia/Darwin   1990-09-04 2024-12-03   \n",
      "94150   136.8000       52.0     Australia/Darwin   1985-12-01 2024-08-02   \n",
      "94171   142.1000       12.0   Australia/Brisbane   1959-01-01 2024-08-02   \n",
      "94203   122.2000       17.0      Australia/Perth   1939-08-11 2024-12-03   \n",
      "...          ...        ...                  ...          ...        ...   \n",
      "YHID0   142.2900       13.0   Australia/Brisbane   1997-01-01 2024-12-03   \n",
      "YKRY0   151.8410      455.0   Australia/Brisbane   1956-12-31 2024-10-30   \n",
      "YNAR0   146.5120      144.0     Australia/Sydney   1969-12-31 2024-10-30   \n",
      "YPJT0   115.8810       30.0      Australia/Perth   1990-02-06 2024-12-03   \n",
      "YSWL0   142.7410      246.0  Australia/Melbourne   1998-03-01 2024-10-30   \n",
      "\n",
      "      daily_start  daily_end monthly_start monthly_end  \n",
      "id                                                      \n",
      "94120  1750-02-01 2023-12-31    1941-01-01  2022-01-01  \n",
      "94132  1943-04-01 2022-04-25    1943-01-01  2022-01-01  \n",
      "94150  1750-02-01 2024-12-30    1944-01-01  2022-01-01  \n",
      "94171  1750-02-01 2023-12-31    2006-01-01  2022-01-01  \n",
      "94203  1750-02-01 2024-12-30    1939-01-01  2022-01-01  \n",
      "...           ...        ...           ...         ...  \n",
      "YHID0  2009-10-24 2022-04-25    2014-01-01  2022-01-01  \n",
      "YKRY0  2013-10-23 2022-04-25    2014-01-01  2022-01-01  \n",
      "YNAR0  2013-10-23 2022-04-25    2014-01-01  2022-01-01  \n",
      "YPJT0  2009-10-23 2022-04-10    2015-01-01  2021-01-01  \n",
      "YSWL0  2020-03-04 2022-03-23    2020-01-01  2021-01-01  \n",
      "\n",
      "[65 rows x 16 columns]\n"
     ]
    }
   ],
   "source": [
    "import meteostat\n",
    "from datetime import datetime\n",
    "\n",
    "country_code = 'AU'\n",
    "start = datetime(2000, 1, 1, 0, 0, 0)\n",
    "end = datetime(2020, 12, 31, 23, 59, 59)\n",
    "\n",
    "stations = meteostat.Stations().region(country_code).fetch()\n",
    "stations = stations[(stations['hourly_start'].dt.year<=start.year) & (stations['hourly_end'].dt.year>=end.year)]\n",
    "\n",
    "n_stations = len(stations)\n",
    "current_n = 0\n",
    "av_frac_var = []\n",
    "for station_id in stations.index:\n",
    "    current_n += 1\n",
    "    station_name = stations[stations.index==station_id]['name'].iloc[0]\n",
    "    print(f'\\r{(current_n/n_stations)*100:.2f}%', end='', flush=True)\n",
    "    \n",
    "    df = meteostat.Hourly(station_id, start, end).fetch()\n",
    "    # if all or many pressure measurements are NaN, skip\n",
    "    if (df[\"pres\"].isna().all()) | (len(df[df[\"pres\"].isna()])>0.5*len(df[\"pres\"])):\n",
    "        av_frac_var.append(float('nan'))\n",
    "        continue\n",
    "    \n",
    "    cleaned_df = remove_outliers(df)\n",
    "    frac_var_yearly = get_variation_frac(cleaned_df, \"pres\")\n",
    "    av_frac_var.append(sum(frac_var_yearly.values())/len(frac_var_yearly)) # average fraction of days with high variation per year\n",
    "    \n",
    "stations.insert(0, \"frac_var\", av_frac_var)\n",
    "stations = stations.drop(stations[stations['frac_var'] == 'NaN'].index)\n",
    "print(stations)\n",
    "\n"
   ]
  },
  {
   "cell_type": "code",
   "execution_count": 10,
   "metadata": {},
   "outputs": [
    {
     "data": {
      "image/png": "[encoded data removed]",
      "text/plain": [
       "<Figure size 864x864 with 2 Axes>"
      ]
     },
     "metadata": {
      "needs_background": "light"
     },
     "output_type": "display_data"
    }
   ],
   "source": [
    "import geopandas as gpd\n",
    "import matplotlib.pyplot as plt\n",
    "\n",
    "country_name = 'Australia'\n",
    "\n",
    "# initialize an axis\n",
    "fig, ax = plt.subplots(figsize=(12,12))\n",
    "map_url = \"https://naciscdn.org/naturalearth/110m/cultural/ne_110m_admin_0_countries.zip\"\n",
    "country_map = gpd.read_file(map_url)\n",
    "country_map[country_map[\"NAME_EN\"] == country_name].plot(color=\"lightgrey\", ax=ax)\n",
    "countries[countries[\"name\"] == country_name].plot(color=\"lightgrey\", ax=ax)\n",
    "\n",
    "stations.plot(x=\"longitude\", y=\"latitude\", kind=\"scatter\", c=\"frac_var\", colormap=\"YlOrRd\", ax=ax)\n",
    "plt.show()"
   ]
  },
  {
   "cell_type": "code",
   "execution_count": null,
   "metadata": {},
   "outputs": [],
   "source": []
  }
 ],
 "metadata": {
  "kernelspec": {
   "display_name": "Python 3",
   "language": "python",
   "name": "python3"
  },
  "language_info": {
   "codemirror_mode": {
    "name": "ipython",
    "version": 3
   },
   "file_extension": ".py",
   "mimetype": "text/x-python",
   "name": "python",
   "nbconvert_exporter": "python",
   "pygments_lexer": "ipython3",
   "version": "3.8.5"
  },
  "toc": {
   "base_numbering": 1,
   "nav_menu": {},
   "number_sections": true,
   "sideBar": true,
   "skip_h1_title": true,
   "title_cell": "Table of Contents",
   "title_sidebar": "Contents",
   "toc_cell": true,
   "toc_position": {},
   "toc_section_display": true,
   "toc_window_display": false
  }
 },
 "nbformat": 4,
 "nbformat_minor": 4
}
